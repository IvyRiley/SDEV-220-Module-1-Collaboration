{
 "cells": [
  {
   "cell_type": "code",
   "execution_count": 35,
   "id": "c3db1c52-ced9-4506-8f6d-d45611ed36b8",
   "metadata": {},
   "outputs": [
    {
     "name": "stdin",
     "output_type": "stream",
     "text": [
      "What is the Vehicle type:  Sedan\n",
      "What is the Year:  2006\n",
      "What is the Make:  Toyota\n",
      "What is the Model:  Corolla\n",
      "How many doors does it have? (2 or 4):  4\n",
      "Please type a roof type (solid or sun):  Solid Roof\n"
     ]
    },
    {
     "name": "stdout",
     "output_type": "stream",
     "text": [
      "Vehicle Type: Sedan\n",
      "Year: 2006\n",
      "Make: Toyota\n",
      "Model: Corolla\n",
      "Number of Doors: 4\n",
      "Roof: Solid Roof\n"
     ]
    }
   ],
   "source": [
    "class Vehicle:\n",
    "    def __init__(self, type):\n",
    "        self.type = type\n",
    "\n",
    "class Automobile(Vehicle): \n",
    "    def __init__(self, type, year, make, model, doors, roof):\n",
    "        super().__init__(type)\n",
    "        self.year = year\n",
    "        self.make = make\n",
    "        self.model = model\n",
    "        self.doors = doors\n",
    "        self.roof = roof\n",
    "    def output_function(self):\n",
    "        print(\"Vehicle Type: \" + self.type)\n",
    "        print(\"Year: \" + self.year)\n",
    "        print(\"Make: \" + self.make)\n",
    "        print(\"Model: \" + self.model)\n",
    "        print(\"Number of Doors: \" + self.doors)\n",
    "        print(\"Roof: \" + self.roof)\n",
    "\n",
    "test = Automobile(\"000\", \"000\",\"000\",\"000\",\"000\",\"000\")\n",
    "\n",
    "test.type = input(\"What is the Vehicle type: \")\n",
    "test.year = input(\"What is the Year: \")\n",
    "test.make = input(\"What is the Make: \")\n",
    "test.model = input(\"What is the Model: \")\n",
    "test.doors = input(\"How many doors does it have? (2 or 4): \")\n",
    "test.roof = input(\"Please type a roof type (solid or sun): \")\n",
    "\n",
    "\n",
    "test.output_function()\n",
    "        "
   ]
  },
  {
   "cell_type": "code",
   "execution_count": null,
   "id": "decaf93d-af30-471f-b078-75e34c015dc7",
   "metadata": {},
   "outputs": [],
   "source": []
  },
  {
   "cell_type": "code",
   "execution_count": null,
   "id": "5f9dd346-9264-420e-89ae-605483b2e3ea",
   "metadata": {},
   "outputs": [],
   "source": []
  },
  {
   "cell_type": "code",
   "execution_count": null,
   "id": "66083542-7168-45e2-8010-85cdf5f2f8dd",
   "metadata": {},
   "outputs": [],
   "source": []
  },
  {
   "cell_type": "code",
   "execution_count": null,
   "id": "a03809f0-87f8-422c-8a7c-7c16d125c161",
   "metadata": {},
   "outputs": [],
   "source": []
  }
 ],
 "metadata": {
  "kernelspec": {
   "display_name": "Python [conda env:base] *",
   "language": "python",
   "name": "conda-base-py"
  },
  "language_info": {
   "codemirror_mode": {
    "name": "ipython",
    "version": 3
   },
   "file_extension": ".py",
   "mimetype": "text/x-python",
   "name": "python",
   "nbconvert_exporter": "python",
   "pygments_lexer": "ipython3",
   "version": "3.12.7"
  }
 },
 "nbformat": 4,
 "nbformat_minor": 5
}
