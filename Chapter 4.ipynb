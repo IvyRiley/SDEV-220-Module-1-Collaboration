{
 "cells": [
  {
   "cell_type": "code",
   "execution_count": 8,
   "id": "3ebf21fa-29e4-46d4-8ec7-bc30d9547608",
   "metadata": {},
   "outputs": [
    {
     "name": "stdout",
     "output_type": "stream",
     "text": [
      "too low\n"
     ]
    }
   ],
   "source": [
    "#section 4.1\n",
    "secret = 5\n",
    "guess = 2\n",
    "if guess == secret: \n",
    "    print(\"correct!\")\n",
    "elif guess < secret:\n",
    "    print(\"too low\")\n",
    "else:\n",
    "    print(\"too high\")\n",
    "\n"
   ]
  },
  {
   "cell_type": "code",
   "execution_count": 16,
   "id": "b229e342-6243-497c-aee6-75af171eaca1",
   "metadata": {},
   "outputs": [
    {
     "name": "stdout",
     "output_type": "stream",
     "text": [
      "watermelon\n"
     ]
    }
   ],
   "source": [
    "#section 4.2\n",
    "#cherry, pea, watermelon, pumpkin\n",
    "small = False\n",
    "green = True\n",
    "\n",
    "if small and green == True:\n",
    "    print(\"pea\")\n",
    "elif small == False and green == True:\n",
    "    print(\"watermelon\")\n",
    "elif green == False and small == True:\n",
    "    print(\"cherry\")\n",
    "elif small and green == False:\n",
    "    print(\"pumpkin\")"
   ]
  },
  {
   "cell_type": "code",
   "execution_count": null,
   "id": "d016c597-6c02-465c-a615-fca8233e4911",
   "metadata": {},
   "outputs": [],
   "source": []
  }
 ],
 "metadata": {
  "kernelspec": {
   "display_name": "Python [conda env:base] *",
   "language": "python",
   "name": "conda-base-py"
  },
  "language_info": {
   "codemirror_mode": {
    "name": "ipython",
    "version": 3
   },
   "file_extension": ".py",
   "mimetype": "text/x-python",
   "name": "python",
   "nbconvert_exporter": "python",
   "pygments_lexer": "ipython3",
   "version": "3.12.7"
  }
 },
 "nbformat": 4,
 "nbformat_minor": 5
}
