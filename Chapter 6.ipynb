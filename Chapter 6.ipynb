{
 "cells": [
  {
   "cell_type": "code",
   "execution_count": 4,
   "id": "5eed8941-b5b0-46e3-bbab-ec6794ac7303",
   "metadata": {},
   "outputs": [
    {
     "name": "stdout",
     "output_type": "stream",
     "text": [
      "3\n",
      "2\n",
      "1\n",
      "0\n"
     ]
    }
   ],
   "source": [
    "#section 6.1\n",
    "x = 0\n",
    "numberList = [3,2,1,0]\n",
    "\n",
    "for x in range (0,4):\n",
    "    print(numberList[x])"
   ]
  },
  {
   "cell_type": "code",
   "execution_count": 9,
   "id": "f940516f-53dc-405f-9b7d-51e80b915ef5",
   "metadata": {},
   "outputs": [
    {
     "name": "stdout",
     "output_type": "stream",
     "text": [
      "too low...\n",
      "too low...\n",
      "too low...\n",
      "too low...\n",
      "too low...\n",
      "too low...\n",
      "found it!\n"
     ]
    }
   ],
   "source": [
    "#section 6.2\n",
    "guess_me = 7\n",
    "number = 1\n",
    "\n",
    "while number <= guess_me:\n",
    "    if number == guess_me:\n",
    "        print(\"found it!\")\n",
    "        number += 1\n",
    "        break\n",
    "    elif number < guess_me:\n",
    "        print(\"too low...\")\n",
    "        number += 1\n",
    "    elif number > guess_me:\n",
    "        print(\"oops-\")\n",
    "        number = 0\n",
    "        break"
   ]
  },
  {
   "cell_type": "code",
   "execution_count": 11,
   "id": "c9ed67fd-7e06-40f8-ade4-e67ed9474317",
   "metadata": {},
   "outputs": [
    {
     "name": "stdout",
     "output_type": "stream",
     "text": [
      "too low...\n",
      "too low...\n",
      "too low...\n",
      "too low...\n",
      "too low...\n",
      "found it!\n"
     ]
    }
   ],
   "source": [
    "#section 6.3\n",
    "guess_me = 5\n",
    "number = 1\n",
    "\n",
    "for number in range(10):\n",
    "    if number == guess_me:\n",
    "        print(\"found it!\")\n",
    "        number += 1\n",
    "        break\n",
    "    elif number < guess_me:\n",
    "        print(\"too low...\")\n",
    "        number += 1\n",
    "    elif number > guess_me:\n",
    "        print(\"oops-\")\n",
    "        number = 0\n",
    "        break"
   ]
  },
  {
   "cell_type": "code",
   "execution_count": null,
   "id": "025fc035-9cf0-491e-bc79-03bd171e160f",
   "metadata": {},
   "outputs": [],
   "source": []
  }
 ],
 "metadata": {
  "kernelspec": {
   "display_name": "Python [conda env:base] *",
   "language": "python",
   "name": "conda-base-py"
  },
  "language_info": {
   "codemirror_mode": {
    "name": "ipython",
    "version": 3
   },
   "file_extension": ".py",
   "mimetype": "text/x-python",
   "name": "python",
   "nbconvert_exporter": "python",
   "pygments_lexer": "ipython3",
   "version": "3.12.7"
  }
 },
 "nbformat": 4,
 "nbformat_minor": 5
}
