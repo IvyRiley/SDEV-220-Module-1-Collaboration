{
 "cells": [
  {
   "cell_type": "code",
   "execution_count": 9,
   "id": "117974b0-fb29-44b5-a6ff-ecf327ab048a",
   "metadata": {},
   "outputs": [
    {
     "name": "stdout",
     "output_type": "stream",
     "text": [
      "1\n",
      "3\n",
      "5\n",
      "7\n",
      "9\n"
     ]
    }
   ],
   "source": [
    "#9.1 \n",
    "def good():\n",
    "    return ['Harry', 'Ron', 'Hermione']\n",
    "\n",
    "#9.2\n",
    "def get_odds(x):\n",
    "    for n in x:\n",
    "        print(n)\n",
    "list = range(1,10,2)\n",
    "get_odds(list)"
   ]
  },
  {
   "cell_type": "code",
   "execution_count": null,
   "id": "067e70bb-02d5-426c-8212-c0714694af6a",
   "metadata": {},
   "outputs": [],
   "source": []
  }
 ],
 "metadata": {
  "kernelspec": {
   "display_name": "Python [conda env:base] *",
   "language": "python",
   "name": "conda-base-py"
  },
  "language_info": {
   "codemirror_mode": {
    "name": "ipython",
    "version": 3
   },
   "file_extension": ".py",
   "mimetype": "text/x-python",
   "name": "python",
   "nbconvert_exporter": "python",
   "pygments_lexer": "ipython3",
   "version": "3.12.7"
  }
 },
 "nbformat": 4,
 "nbformat_minor": 5
}
