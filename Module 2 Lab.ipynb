{
 "cells": [
  {
   "cell_type": "code",
   "execution_count": 8,
   "id": "6283d4b7-cb5d-45f5-bfa5-91de19b53415",
   "metadata": {},
   "outputs": [
    {
     "name": "stdin",
     "output_type": "stream",
     "text": [
      "Please enter Last Name: John\n",
      "Please enter GPA: 2.5\n"
     ]
    },
    {
     "name": "stdout",
     "output_type": "stream",
     "text": [
      "This student did not make the Dean's list. Please enter another Student or enter 'ZZZ' to end.\n"
     ]
    },
    {
     "name": "stdin",
     "output_type": "stream",
     "text": [
      "Please enter Last Name: Henry\n",
      "Please enter GPA: 3.25\n"
     ]
    },
    {
     "name": "stdout",
     "output_type": "stream",
     "text": [
      "Henry has made Honor Roll!\n"
     ]
    },
    {
     "name": "stdin",
     "output_type": "stream",
     "text": [
      "Please enter Last Name: Sarah\n",
      "Please enter GPA: 3.0\n"
     ]
    },
    {
     "name": "stdout",
     "output_type": "stream",
     "text": [
      "This student did not make the Dean's list. Please enter another Student or enter 'ZZZ' to end.\n"
     ]
    },
    {
     "name": "stdin",
     "output_type": "stream",
     "text": [
      "Please enter Last Name: Athena\n",
      "Please enter GPA: 3.5\n"
     ]
    },
    {
     "name": "stdout",
     "output_type": "stream",
     "text": [
      "Athena has made the Dean's list!\n"
     ]
    },
    {
     "name": "stdin",
     "output_type": "stream",
     "text": [
      "Please enter Last Name: Jane\n",
      "Please enter GPA: 4.0\n"
     ]
    },
    {
     "name": "stdout",
     "output_type": "stream",
     "text": [
      "Jane has made the Dean's list!\n"
     ]
    },
    {
     "name": "stdin",
     "output_type": "stream",
     "text": [
      "Please enter Last Name: ZZZ\n"
     ]
    }
   ],
   "source": [
    "#Riley Choe\n",
    "#Module 2 Lab\n",
    "#Tests to see if named student has made Dean's List or Honor Roll\n",
    "name = \"\"\n",
    "GPA = 0.0\n",
    "\n",
    "while name != \"ZZZ\":\n",
    "    name = input(\"Please enter Last Name:\")\n",
    "    if name != \"ZZZ\":\n",
    "        GPA = float(input(\"Please enter GPA:\"))\n",
    "    else:\n",
    "        break\n",
    "\n",
    "    if GPA >= 3.5:\n",
    "        print(name + \" has made the Dean's list!\")\n",
    "    elif GPA >= 3.25 and GPA < 3.5 :\n",
    "        print(name + \" has made Honor Roll!\")\n",
    "    else:\n",
    "        print(\"This student did not make the Dean's list. Please enter another Student or enter 'ZZZ' to end.\")"
   ]
  },
  {
   "cell_type": "code",
   "execution_count": null,
   "id": "65c6f19b-3d46-4a71-94ba-f942d9245177",
   "metadata": {},
   "outputs": [],
   "source": []
  },
  {
   "cell_type": "code",
   "execution_count": null,
   "id": "245cacc2-d5b1-4ce9-a554-f333f0535f82",
   "metadata": {},
   "outputs": [],
   "source": []
  },
  {
   "cell_type": "code",
   "execution_count": null,
   "id": "56d417bc-d2d0-497f-943d-cb04818623aa",
   "metadata": {},
   "outputs": [],
   "source": []
  }
 ],
 "metadata": {
  "kernelspec": {
   "display_name": "Python [conda env:base] *",
   "language": "python",
   "name": "conda-base-py"
  },
  "language_info": {
   "codemirror_mode": {
    "name": "ipython",
    "version": 3
   },
   "file_extension": ".py",
   "mimetype": "text/x-python",
   "name": "python",
   "nbconvert_exporter": "python",
   "pygments_lexer": "ipython3",
   "version": "3.12.7"
  }
 },
 "nbformat": 4,
 "nbformat_minor": 5
}
