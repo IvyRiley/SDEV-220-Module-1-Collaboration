{
 "cells": [
  {
   "cell_type": "code",
   "execution_count": 1,
   "id": "d84b378b-a975-4c9a-99cd-cd6cd1e6a5fe",
   "metadata": {},
   "outputs": [
    {
     "data": {
      "text/plain": [
       "3600"
      ]
     },
     "execution_count": 1,
     "metadata": {},
     "output_type": "execute_result"
    }
   ],
   "source": [
    "(60*60)"
   ]
  },
  {
   "cell_type": "code",
   "execution_count": 4,
   "id": "5a47f38d-4046-499b-9beb-a0007a5445a2",
   "metadata": {},
   "outputs": [],
   "source": [
    "seconds_per_hour = (60*60)"
   ]
  },
  {
   "cell_type": "code",
   "execution_count": 5,
   "id": "181b0c2b-ae2d-4755-b09b-ed0acf821807",
   "metadata": {},
   "outputs": [
    {
     "data": {
      "text/plain": [
       "86400"
      ]
     },
     "execution_count": 5,
     "metadata": {},
     "output_type": "execute_result"
    }
   ],
   "source": [
    "seconds_per_hour * 24"
   ]
  },
  {
   "cell_type": "code",
   "execution_count": 6,
   "id": "cc452097-5ce0-45ec-a316-803150829c6c",
   "metadata": {},
   "outputs": [],
   "source": [
    "seconds_per_day = seconds_per_hour * 24"
   ]
  },
  {
   "cell_type": "code",
   "execution_count": 7,
   "id": "23adf1c1-bcc5-4547-8a93-e4314ba2b41e",
   "metadata": {},
   "outputs": [
    {
     "data": {
      "text/plain": [
       "24.0"
      ]
     },
     "execution_count": 7,
     "metadata": {},
     "output_type": "execute_result"
    }
   ],
   "source": [
    "seconds_per_day / seconds_per_hour "
   ]
  },
  {
   "cell_type": "code",
   "execution_count": 8,
   "id": "2908d5f8-1b8d-4509-b20d-21d8f61f1de7",
   "metadata": {},
   "outputs": [
    {
     "data": {
      "text/plain": [
       "24"
      ]
     },
     "execution_count": 8,
     "metadata": {},
     "output_type": "execute_result"
    }
   ],
   "source": [
    "seconds_per_day // seconds_per_hour "
   ]
  },
  {
   "cell_type": "code",
   "execution_count": null,
   "id": "97e46d2b-317c-4568-90e3-4d6f46688675",
   "metadata": {},
   "outputs": [],
   "source": []
  }
 ],
 "metadata": {
  "kernelspec": {
   "display_name": "Python [conda env:base] *",
   "language": "python",
   "name": "conda-base-py"
  },
  "language_info": {
   "codemirror_mode": {
    "name": "ipython",
    "version": 3
   },
   "file_extension": ".py",
   "mimetype": "text/x-python",
   "name": "python",
   "nbconvert_exporter": "python",
   "pygments_lexer": "ipython3",
   "version": "3.12.7"
  }
 },
 "nbformat": 4,
 "nbformat_minor": 5
}
